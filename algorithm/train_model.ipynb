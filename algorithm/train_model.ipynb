{
  "nbformat": 4,
  "nbformat_minor": 0,
  "metadata": {
    "colab": {
      "provenance": []
    },
    "kernelspec": {
      "name": "python3",
      "display_name": "Python 3"
    },
    "language_info": {
      "name": "python"
    }
  },
  "cells": [
    {
      "cell_type": "code",
      "execution_count": null,
      "metadata": {
        "id": "v4eHF0k_86Kw"
      },
      "outputs": [],
      "source": [
        "import pandas as pd\n",
        "import numpy as np\n",
        "from sklearn.model_selection import train_test_split\n",
        "from sklearn.preprocessing import LabelEncoder\n",
        "from sklearn.metrics import mean_absolute_error, mean_squared_error, r2_score\n",
        "from xgboost import XGBRegressor\n",
        "\n",
        "# Load dataset\n",
        "df = pd.read_csv(\"/content/cleaned_games_2018_2022 (1).csv\")\n",
        "\n",
        "# Function to compute final AFL score\n",
        "def compute_final_score(score):\n",
        "    goals, points = map(int, str(score).split('.'))\n",
        "    return (goals * 6) + points\n",
        "\n",
        "df['home_score'] = df['hometeamscoreft'].apply(compute_final_score)\n",
        "df['away_score'] = df['awayteamscoreft'].apply(compute_final_score)\n",
        "\n",
        "# Encode categorical variables\n",
        "label_encoders = {}\n",
        "categorical_columns = ['hometeam', 'awayteam', 'venue', 'round']\n",
        "\n",
        "for col in categorical_columns:\n",
        "    le = LabelEncoder()\n",
        "    df[col] = le.fit_transform(df[col])\n",
        "    label_encoders[col] = le  # Save encoders for later use\n",
        "\n",
        "# Select features and target\n",
        "features = ['year', 'round', 'hometeam', 'awayteam', 'venue', 'maxtemp', 'mintemp']\n",
        "target = ['home_score', 'away_score']\n",
        "\n",
        "X = df[features]\n",
        "y = df[target]\n",
        "\n",
        "# Split data into train and test sets (80% train, 20% test)\n",
        "X_train, X_test, y_train, y_test = train_test_split(X, y, test_size=0.2, random_state=42)\n",
        "\n",
        "# Train XGBoost Model\n",
        "model = XGBRegressor(n_estimators=200, learning_rate=0.1, max_depth=5, random_state=42)\n",
        "model.fit(X_train, y_train)\n",
        "\n",
        "# Make predictions\n",
        "y_pred = model.predict(X_test)\n",
        "\n",
        "# Convert predictions to integers (rounding)\n",
        "y_pred_int = np.round(y_pred)\n",
        "\n",
        "# Calculate evaluation metrics\n",
        "mae = mean_absolute_error(y_test, y_pred_int)\n",
        "rmse = np.sqrt(mean_squared_error(y_test, y_pred_int))\n",
        "r2 = r2_score(y_test, y_pred)\n",
        "\n",
        "# print(f\"Mean Absolute Error (MAE): {mae:.2f}\")\n",
        "# print(f\"Root Mean Squared Error (RMSE): {rmse:.2f}\")\n",
        "# print(f\"R² Score: {r2:.4f}\")\n",
        "\n",
        "# Prediction function\n",
        "def predict_match(home_team, away_team, match_round, venue, year=2024, maxtemp=20, mintemp=10):\n",
        "    # Encode categorical values using saved LabelEncoders\n",
        "    home_team_encoded = label_encoders['hometeam'].transform([home_team])[0]\n",
        "    away_team_encoded = label_encoders['awayteam'].transform([away_team])[0]\n",
        "    venue_encoded = label_encoders['venue'].transform([venue])[0]\n",
        "    round_encoded = label_encoders['round'].transform([match_round])[0]\n",
        "\n",
        "    # Create input array\n",
        "    match_features = np.array([[year, round_encoded, home_team_encoded, away_team_encoded, venue_encoded, maxtemp, mintemp]])\n",
        "\n",
        "    # Predict scores\n",
        "    predicted_scores = model.predict(match_features)\n",
        "\n",
        "    # Round to nearest integer\n",
        "    home_score = int(round(predicted_scores[0][0]))\n",
        "    away_score = int(round(predicted_scores[0][1]))\n",
        "\n",
        "    print(f\"Predicted Score for {home_team} vs {away_team}:\")\n",
        "    print(f\"{home_team}: {home_score}\")\n",
        "    print(f\"{away_team}: {away_score}\")\n",
        "\n",
        "\n"
      ]
    },
    {
      "cell_type": "code",
      "source": [
        "# Example Prediction: Richmond vs Carlton at MCG\n",
        "predict_match(\"Richmond\", \"Carlton\", \"R1\", \"M.C.G.\", year=2024, maxtemp=28.7, mintemp=14)"
      ],
      "metadata": {
        "colab": {
          "base_uri": "https://localhost:8080/"
        },
        "id": "_vE9fOdi9Irb",
        "outputId": "43b5e2ef-0454-4aa9-b3cd-ebf6fd7b85a6"
      },
      "execution_count": null,
      "outputs": [
        {
          "output_type": "stream",
          "name": "stdout",
          "text": [
            "Predicted Score for Richmond vs Carlton:\n",
            "Richmond: 116\n",
            "Carlton: 86\n"
          ]
        }
      ]
    },
    {
      "cell_type": "markdown",
      "source": [
        "Catboost\n",
        "✅ Stage 1: Player Stats Prediction\n",
        "What it does:\n",
        "Before predicting scores, your model first estimates team-level player statistics for the match (such as total disposals, goals, tackles, etc. for both home and away teams).\n",
        "\n",
        "How it works:\n",
        "\n",
        "For each player stat (like Disposals, Goals, etc.), you trained a separate CatBoost regression model.\n",
        "\n",
        "These models take match metadata as input:\n",
        "\n",
        "Home team\n",
        "\n",
        "Away team\n",
        "\n",
        "Round\n",
        "\n",
        "Venue\n",
        "\n",
        "Year\n",
        "\n",
        "Temperature (max and min)\n",
        "\n",
        "Purpose:\n",
        "This mimics the real-world situation where you won’t know player performance before the game — so you predict it first.\n",
        "\n",
        "✅ Stage 2: Final Score Prediction\n",
        "What it does:\n",
        "Using the predicted team-level player stats + pre-match metadata, your second stage predicts the final home and away scores.\n",
        "\n",
        "How it works:\n",
        "\n",
        "You trained two CatBoost models:\n",
        "\n",
        "One for predicting the home team score.\n",
        "\n",
        "One for predicting the away team score.\n",
        "\n",
        "Inputs:\n",
        "\n",
        "Match metadata (teams, round, venue, temperatures)\n",
        "\n",
        "Predicted player aggregate stats from Stage 1\n",
        "\n",
        "Outputs:\n",
        "\n",
        "Predicted home team score\n",
        "\n",
        "Predicted away team score"
      ],
      "metadata": {
        "id": "d5sinNMctszZ"
      }
    },
    {
      "cell_type": "code",
      "source": [
        "!pip install --upgrade --force-reinstall numpy==1.23.5 catboost\n"
      ],
      "metadata": {
        "colab": {
          "base_uri": "https://localhost:8080/",
          "height": 1000
        },
        "id": "nQQhM3exuAs-",
        "outputId": "48d26ef8-f0d4-4591-b251-2babd7836226"
      },
      "execution_count": null,
      "outputs": [
        {
          "output_type": "stream",
          "name": "stdout",
          "text": [
            "Collecting numpy==1.23.5\n",
            "  Downloading numpy-1.23.5-cp311-cp311-manylinux_2_17_x86_64.manylinux2014_x86_64.whl.metadata (2.3 kB)\n",
            "Collecting catboost\n",
            "  Downloading catboost-1.2.8-cp311-cp311-manylinux2014_x86_64.whl.metadata (1.2 kB)\n",
            "Collecting graphviz (from catboost)\n",
            "  Downloading graphviz-0.20.3-py3-none-any.whl.metadata (12 kB)\n",
            "Collecting matplotlib (from catboost)\n",
            "  Downloading matplotlib-3.10.1-cp311-cp311-manylinux_2_17_x86_64.manylinux2014_x86_64.whl.metadata (11 kB)\n",
            "Collecting pandas>=0.24 (from catboost)\n",
            "  Downloading pandas-2.2.3-cp311-cp311-manylinux_2_17_x86_64.manylinux2014_x86_64.whl.metadata (89 kB)\n",
            "\u001b[2K     \u001b[90m━━━━━━━━━━━━━━━━━━━━━━━━━━━━━━━━━━━━━━━━\u001b[0m \u001b[32m89.9/89.9 kB\u001b[0m \u001b[31m4.7 MB/s\u001b[0m eta \u001b[36m0:00:00\u001b[0m\n",
            "\u001b[?25hCollecting scipy (from catboost)\n",
            "  Downloading scipy-1.15.2-cp311-cp311-manylinux_2_17_x86_64.manylinux2014_x86_64.whl.metadata (61 kB)\n",
            "\u001b[2K     \u001b[90m━━━━━━━━━━━━━━━━━━━━━━━━━━━━━━━━━━━━━━━━\u001b[0m \u001b[32m62.0/62.0 kB\u001b[0m \u001b[31m2.1 MB/s\u001b[0m eta \u001b[36m0:00:00\u001b[0m\n",
            "\u001b[?25hCollecting plotly (from catboost)\n",
            "  Downloading plotly-6.0.1-py3-none-any.whl.metadata (6.7 kB)\n",
            "Collecting six (from catboost)\n",
            "  Downloading six-1.17.0-py2.py3-none-any.whl.metadata (1.7 kB)\n",
            "Collecting python-dateutil>=2.8.2 (from pandas>=0.24->catboost)\n",
            "  Downloading python_dateutil-2.9.0.post0-py2.py3-none-any.whl.metadata (8.4 kB)\n",
            "Collecting pytz>=2020.1 (from pandas>=0.24->catboost)\n",
            "  Downloading pytz-2025.2-py2.py3-none-any.whl.metadata (22 kB)\n",
            "Collecting tzdata>=2022.7 (from pandas>=0.24->catboost)\n",
            "  Downloading tzdata-2025.2-py2.py3-none-any.whl.metadata (1.4 kB)\n",
            "Collecting contourpy>=1.0.1 (from matplotlib->catboost)\n",
            "  Downloading contourpy-1.3.2-cp311-cp311-manylinux_2_17_x86_64.manylinux2014_x86_64.whl.metadata (5.5 kB)\n",
            "Collecting cycler>=0.10 (from matplotlib->catboost)\n",
            "  Downloading cycler-0.12.1-py3-none-any.whl.metadata (3.8 kB)\n",
            "Collecting fonttools>=4.22.0 (from matplotlib->catboost)\n",
            "  Downloading fonttools-4.57.0-cp311-cp311-manylinux_2_17_x86_64.manylinux2014_x86_64.whl.metadata (102 kB)\n",
            "\u001b[2K     \u001b[90m━━━━━━━━━━━━━━━━━━━━━━━━━━━━━━━━━━━━━━━\u001b[0m \u001b[32m102.5/102.5 kB\u001b[0m \u001b[31m6.8 MB/s\u001b[0m eta \u001b[36m0:00:00\u001b[0m\n",
            "\u001b[?25hCollecting kiwisolver>=1.3.1 (from matplotlib->catboost)\n",
            "  Downloading kiwisolver-1.4.8-cp311-cp311-manylinux_2_17_x86_64.manylinux2014_x86_64.whl.metadata (6.2 kB)\n",
            "Collecting packaging>=20.0 (from matplotlib->catboost)\n",
            "  Downloading packaging-25.0-py3-none-any.whl.metadata (3.3 kB)\n",
            "Collecting pillow>=8 (from matplotlib->catboost)\n",
            "  Downloading pillow-11.2.1-cp311-cp311-manylinux_2_28_x86_64.whl.metadata (8.9 kB)\n",
            "Collecting pyparsing>=2.3.1 (from matplotlib->catboost)\n",
            "  Downloading pyparsing-3.2.3-py3-none-any.whl.metadata (5.0 kB)\n",
            "Collecting narwhals>=1.15.1 (from plotly->catboost)\n",
            "  Downloading narwhals-1.38.0-py3-none-any.whl.metadata (9.3 kB)\n",
            "Downloading numpy-1.23.5-cp311-cp311-manylinux_2_17_x86_64.manylinux2014_x86_64.whl (17.1 MB)\n",
            "\u001b[2K   \u001b[90m━━━━━━━━━━━━━━━━━━━━━━━━━━━━━━━━━━━━━━━━\u001b[0m \u001b[32m17.1/17.1 MB\u001b[0m \u001b[31m68.3 MB/s\u001b[0m eta \u001b[36m0:00:00\u001b[0m\n",
            "\u001b[?25hDownloading catboost-1.2.8-cp311-cp311-manylinux2014_x86_64.whl (99.2 MB)\n",
            "\u001b[2K   \u001b[90m━━━━━━━━━━━━━━━━━━━━━━━━━━━━━━━━━━━━━━━━\u001b[0m \u001b[32m99.2/99.2 MB\u001b[0m \u001b[31m7.2 MB/s\u001b[0m eta \u001b[36m0:00:00\u001b[0m\n",
            "\u001b[?25hDownloading pandas-2.2.3-cp311-cp311-manylinux_2_17_x86_64.manylinux2014_x86_64.whl (13.1 MB)\n",
            "\u001b[2K   \u001b[90m━━━━━━━━━━━━━━━━━━━━━━━━━━━━━━━━━━━━━━━━\u001b[0m \u001b[32m13.1/13.1 MB\u001b[0m \u001b[31m62.1 MB/s\u001b[0m eta \u001b[36m0:00:00\u001b[0m\n",
            "\u001b[?25hDownloading graphviz-0.20.3-py3-none-any.whl (47 kB)\n",
            "\u001b[2K   \u001b[90m━━━━━━━━━━━━━━━━━━━━━━━━━━━━━━━━━━━━━━━━\u001b[0m \u001b[32m47.1/47.1 kB\u001b[0m \u001b[31m2.8 MB/s\u001b[0m eta \u001b[36m0:00:00\u001b[0m\n",
            "\u001b[?25hDownloading matplotlib-3.10.1-cp311-cp311-manylinux_2_17_x86_64.manylinux2014_x86_64.whl (8.6 MB)\n",
            "\u001b[2K   \u001b[90m━━━━━━━━━━━━━━━━━━━━━━━━━━━━━━━━━━━━━━━━\u001b[0m \u001b[32m8.6/8.6 MB\u001b[0m \u001b[31m61.8 MB/s\u001b[0m eta \u001b[36m0:00:00\u001b[0m\n",
            "\u001b[?25hDownloading plotly-6.0.1-py3-none-any.whl (14.8 MB)\n",
            "\u001b[2K   \u001b[90m━━━━━━━━━━━━━━━━━━━━━━━━━━━━━━━━━━━━━━━━\u001b[0m \u001b[32m14.8/14.8 MB\u001b[0m \u001b[31m91.9 MB/s\u001b[0m eta \u001b[36m0:00:00\u001b[0m\n",
            "\u001b[?25hDownloading scipy-1.15.2-cp311-cp311-manylinux_2_17_x86_64.manylinux2014_x86_64.whl (37.6 MB)\n",
            "\u001b[2K   \u001b[90m━━━━━━━━━━━━━━━━━━━━━━━━━━━━━━━━━━━━━━━━\u001b[0m \u001b[32m37.6/37.6 MB\u001b[0m \u001b[31m13.6 MB/s\u001b[0m eta \u001b[36m0:00:00\u001b[0m\n",
            "\u001b[?25hDownloading six-1.17.0-py2.py3-none-any.whl (11 kB)\n",
            "Downloading contourpy-1.3.2-cp311-cp311-manylinux_2_17_x86_64.manylinux2014_x86_64.whl (326 kB)\n",
            "\u001b[2K   \u001b[90m━━━━━━━━━━━━━━━━━━━━━━━━━━━━━━━━━━━━━━━━\u001b[0m \u001b[32m326.2/326.2 kB\u001b[0m \u001b[31m22.5 MB/s\u001b[0m eta \u001b[36m0:00:00\u001b[0m\n",
            "\u001b[?25hDownloading cycler-0.12.1-py3-none-any.whl (8.3 kB)\n",
            "Downloading fonttools-4.57.0-cp311-cp311-manylinux_2_17_x86_64.manylinux2014_x86_64.whl (4.9 MB)\n",
            "\u001b[2K   \u001b[90m━━━━━━━━━━━━━━━━━━━━━━━━━━━━━━━━━━━━━━━━\u001b[0m \u001b[32m4.9/4.9 MB\u001b[0m \u001b[31m75.5 MB/s\u001b[0m eta \u001b[36m0:00:00\u001b[0m\n",
            "\u001b[?25hDownloading kiwisolver-1.4.8-cp311-cp311-manylinux_2_17_x86_64.manylinux2014_x86_64.whl (1.4 MB)\n",
            "\u001b[2K   \u001b[90m━━━━━━━━━━━━━━━━━━━━━━━━━━━━━━━━━━━━━━━━\u001b[0m \u001b[32m1.4/1.4 MB\u001b[0m \u001b[31m61.3 MB/s\u001b[0m eta \u001b[36m0:00:00\u001b[0m\n",
            "\u001b[?25hDownloading narwhals-1.38.0-py3-none-any.whl (338 kB)\n",
            "\u001b[2K   \u001b[90m━━━━━━━━━━━━━━━━━━━━━━━━━━━━━━━━━━━━━━━━\u001b[0m \u001b[32m338.3/338.3 kB\u001b[0m \u001b[31m22.3 MB/s\u001b[0m eta \u001b[36m0:00:00\u001b[0m\n",
            "\u001b[?25hDownloading packaging-25.0-py3-none-any.whl (66 kB)\n",
            "\u001b[2K   \u001b[90m━━━━━━━━━━━━━━━━━━━━━━━━━━━━━━━━━━━━━━━━\u001b[0m \u001b[32m66.5/66.5 kB\u001b[0m \u001b[31m4.5 MB/s\u001b[0m eta \u001b[36m0:00:00\u001b[0m\n",
            "\u001b[?25hDownloading pillow-11.2.1-cp311-cp311-manylinux_2_28_x86_64.whl (4.6 MB)\n",
            "\u001b[2K   \u001b[90m━━━━━━━━━━━━━━━━━━━━━━━━━━━━━━━━━━━━━━━━\u001b[0m \u001b[32m4.6/4.6 MB\u001b[0m \u001b[31m84.3 MB/s\u001b[0m eta \u001b[36m0:00:00\u001b[0m\n",
            "\u001b[?25hDownloading pyparsing-3.2.3-py3-none-any.whl (111 kB)\n",
            "\u001b[2K   \u001b[90m━━━━━━━━━━━━━━━━━━━━━━━━━━━━━━━━━━━━━━━━\u001b[0m \u001b[32m111.1/111.1 kB\u001b[0m \u001b[31m7.6 MB/s\u001b[0m eta \u001b[36m0:00:00\u001b[0m\n",
            "\u001b[?25hDownloading python_dateutil-2.9.0.post0-py2.py3-none-any.whl (229 kB)\n",
            "\u001b[2K   \u001b[90m━━━━━━━━━━━━━━━━━━━━━━━━━━━━━━━━━━━━━━━━\u001b[0m \u001b[32m229.9/229.9 kB\u001b[0m \u001b[31m16.9 MB/s\u001b[0m eta \u001b[36m0:00:00\u001b[0m\n",
            "\u001b[?25hDownloading pytz-2025.2-py2.py3-none-any.whl (509 kB)\n",
            "\u001b[2K   \u001b[90m━━━━━━━━━━━━━━━━━━━━━━━━━━━━━━━━━━━━━━━━\u001b[0m \u001b[32m509.2/509.2 kB\u001b[0m \u001b[31m28.0 MB/s\u001b[0m eta \u001b[36m0:00:00\u001b[0m\n",
            "\u001b[?25hDownloading tzdata-2025.2-py2.py3-none-any.whl (347 kB)\n",
            "\u001b[2K   \u001b[90m━━━━━━━━━━━━━━━━━━━━━━━━━━━━━━━━━━━━━━━━\u001b[0m \u001b[32m347.8/347.8 kB\u001b[0m \u001b[31m20.5 MB/s\u001b[0m eta \u001b[36m0:00:00\u001b[0m\n",
            "\u001b[?25hInstalling collected packages: pytz, tzdata, six, pyparsing, pillow, packaging, numpy, narwhals, kiwisolver, graphviz, fonttools, cycler, scipy, python-dateutil, plotly, contourpy, pandas, matplotlib, catboost\n",
            "  Attempting uninstall: pytz\n",
            "    Found existing installation: pytz 2025.2\n",
            "    Uninstalling pytz-2025.2:\n",
            "      Successfully uninstalled pytz-2025.2\n",
            "  Attempting uninstall: tzdata\n",
            "    Found existing installation: tzdata 2025.2\n",
            "    Uninstalling tzdata-2025.2:\n",
            "      Successfully uninstalled tzdata-2025.2\n",
            "  Attempting uninstall: six\n",
            "    Found existing installation: six 1.17.0\n",
            "    Uninstalling six-1.17.0:\n",
            "      Successfully uninstalled six-1.17.0\n",
            "  Attempting uninstall: pyparsing\n",
            "    Found existing installation: pyparsing 3.2.3\n",
            "    Uninstalling pyparsing-3.2.3:\n",
            "      Successfully uninstalled pyparsing-3.2.3\n",
            "  Attempting uninstall: pillow\n",
            "    Found existing installation: pillow 11.2.1\n",
            "    Uninstalling pillow-11.2.1:\n",
            "      Successfully uninstalled pillow-11.2.1\n",
            "  Attempting uninstall: packaging\n",
            "    Found existing installation: packaging 24.2\n",
            "    Uninstalling packaging-24.2:\n",
            "      Successfully uninstalled packaging-24.2\n",
            "  Attempting uninstall: numpy\n",
            "    Found existing installation: numpy 2.0.2\n",
            "    Uninstalling numpy-2.0.2:\n",
            "      Successfully uninstalled numpy-2.0.2\n",
            "  Attempting uninstall: narwhals\n",
            "    Found existing installation: narwhals 1.37.1\n",
            "    Uninstalling narwhals-1.37.1:\n",
            "      Successfully uninstalled narwhals-1.37.1\n",
            "  Attempting uninstall: kiwisolver\n",
            "    Found existing installation: kiwisolver 1.4.8\n",
            "    Uninstalling kiwisolver-1.4.8:\n",
            "      Successfully uninstalled kiwisolver-1.4.8\n",
            "  Attempting uninstall: graphviz\n",
            "    Found existing installation: graphviz 0.20.3\n",
            "    Uninstalling graphviz-0.20.3:\n",
            "      Successfully uninstalled graphviz-0.20.3\n",
            "  Attempting uninstall: fonttools\n",
            "    Found existing installation: fonttools 4.57.0\n",
            "    Uninstalling fonttools-4.57.0:\n",
            "      Successfully uninstalled fonttools-4.57.0\n",
            "  Attempting uninstall: cycler\n",
            "    Found existing installation: cycler 0.12.1\n",
            "    Uninstalling cycler-0.12.1:\n",
            "      Successfully uninstalled cycler-0.12.1\n",
            "  Attempting uninstall: scipy\n",
            "    Found existing installation: scipy 1.15.2\n",
            "    Uninstalling scipy-1.15.2:\n",
            "      Successfully uninstalled scipy-1.15.2\n",
            "  Attempting uninstall: python-dateutil\n",
            "    Found existing installation: python-dateutil 2.9.0.post0\n",
            "    Uninstalling python-dateutil-2.9.0.post0:\n",
            "      Successfully uninstalled python-dateutil-2.9.0.post0\n",
            "  Attempting uninstall: plotly\n",
            "    Found existing installation: plotly 5.24.1\n",
            "    Uninstalling plotly-5.24.1:\n",
            "      Successfully uninstalled plotly-5.24.1\n",
            "  Attempting uninstall: contourpy\n",
            "    Found existing installation: contourpy 1.3.2\n",
            "    Uninstalling contourpy-1.3.2:\n",
            "      Successfully uninstalled contourpy-1.3.2\n",
            "  Attempting uninstall: pandas\n",
            "    Found existing installation: pandas 2.2.2\n",
            "    Uninstalling pandas-2.2.2:\n",
            "      Successfully uninstalled pandas-2.2.2\n",
            "  Attempting uninstall: matplotlib\n",
            "    Found existing installation: matplotlib 3.10.0\n",
            "    Uninstalling matplotlib-3.10.0:\n",
            "      Successfully uninstalled matplotlib-3.10.0\n",
            "\u001b[31mERROR: pip's dependency resolver does not currently take into account all the packages that are installed. This behaviour is the source of the following dependency conflicts.\n",
            "google-colab 1.0.0 requires pandas==2.2.2, but you have pandas 2.2.3 which is incompatible.\n",
            "xarray 2025.3.1 requires numpy>=1.24, but you have numpy 1.23.5 which is incompatible.\n",
            "imbalanced-learn 0.13.0 requires numpy<3,>=1.24.3, but you have numpy 1.23.5 which is incompatible.\n",
            "chex 0.1.89 requires numpy>=1.24.1, but you have numpy 1.23.5 which is incompatible.\n",
            "jaxlib 0.5.1 requires numpy>=1.25, but you have numpy 1.23.5 which is incompatible.\n",
            "scikit-image 0.25.2 requires numpy>=1.24, but you have numpy 1.23.5 which is incompatible.\n",
            "pymc 5.22.0 requires numpy>=1.25.0, but you have numpy 1.23.5 which is incompatible.\n",
            "langchain-core 0.3.56 requires packaging<25,>=23.2, but you have packaging 25.0 which is incompatible.\n",
            "thinc 8.3.6 requires numpy<3.0.0,>=2.0.0, but you have numpy 1.23.5 which is incompatible.\n",
            "tensorflow 2.18.0 requires numpy<2.1.0,>=1.26.0, but you have numpy 1.23.5 which is incompatible.\n",
            "treescope 0.1.9 requires numpy>=1.25.2, but you have numpy 1.23.5 which is incompatible.\n",
            "albumentations 2.0.6 requires numpy>=1.24.4, but you have numpy 1.23.5 which is incompatible.\n",
            "blosc2 3.3.2 requires numpy>=1.26, but you have numpy 1.23.5 which is incompatible.\n",
            "jax 0.5.2 requires numpy>=1.25, but you have numpy 1.23.5 which is incompatible.\n",
            "bigframes 2.1.0 requires numpy>=1.24.0, but you have numpy 1.23.5 which is incompatible.\n",
            "albucore 0.0.24 requires numpy>=1.24.4, but you have numpy 1.23.5 which is incompatible.\u001b[0m\u001b[31m\n",
            "\u001b[0mSuccessfully installed catboost-1.2.8 contourpy-1.3.2 cycler-0.12.1 fonttools-4.57.0 graphviz-0.20.3 kiwisolver-1.4.8 matplotlib-3.10.1 narwhals-1.38.0 numpy-1.23.5 packaging-25.0 pandas-2.2.3 pillow-11.2.1 plotly-6.0.1 pyparsing-3.2.3 python-dateutil-2.9.0.post0 pytz-2025.2 scipy-1.15.2 six-1.17.0 tzdata-2025.2\n"
          ]
        },
        {
          "output_type": "display_data",
          "data": {
            "application/vnd.colab-display-data+json": {
              "pip_warning": {
                "packages": [
                  "PIL",
                  "cycler",
                  "dateutil",
                  "kiwisolver",
                  "numpy",
                  "six"
                ]
              },
              "id": "366108a0f4b14d80af5da184bbab6bed"
            }
          },
          "metadata": {}
        }
      ]
    },
    {
      "cell_type": "code",
      "source": [
        "import pandas as pd\n",
        "\n",
        "# Load player data\n",
        "player_df = pd.read_csv(\"/content/stats.csv\")\n",
        "\n",
        "# Aggregate player statistics by GameId and Team\n",
        "agg_player_stats = player_df.groupby(['GameId', 'Team']).agg({\n",
        "    'Disposals': 'sum',\n",
        "    'Kicks': 'sum',\n",
        "    'Marks': 'sum',\n",
        "    'Handballs': 'sum',\n",
        "    'Goals': 'sum',\n",
        "    'Behinds': 'sum',\n",
        "    'HitOuts': 'sum',\n",
        "    'Tackles': 'sum',\n",
        "    'Inside50s': 'sum',\n",
        "    'Clearances': 'sum',\n",
        "    'Rebounds': 'sum',\n",
        "    # Add more as needed!\n",
        "}).reset_index()\n",
        "\n",
        "# Map team names to their full names\n",
        "team_name_mapping = {\n",
        "    \"Richmond\": \"Richmond Tigers\",\n",
        "    \"Essendon\": \"Essendon Bombers\",\n",
        "    \"St Kilda\": \"St Kilda Saints\",\n",
        "    \"Port Adelaide\": \"Port Adelaide Power\",\n",
        "    \"Gold Coast\": \"Gold Coast Suns\",\n",
        "    \"Hawthorn\": \"Hawthorn Hawks\",\n",
        "    \"Greater Western Sydney\": \"GWS Giants\",\n",
        "    \"Melbourne\": \"Melbourne Demons\",\n",
        "    \"West Coast\": \"West Coast Eagles\",\n",
        "    \"Adelaide\": \"Adelaide Crows\",\n",
        "    \"North Melbourne\": \"North Melbourne Kangaroos\",\n",
        "    \"Carlton\": \"Carlton Blues\",\n",
        "    \"Collingwood\": \"Collingwood Magpies\",\n",
        "    \"Brisbane Lions\": \"Brisbane Lions\",\n",
        "    \"Fremantle\": \"Fremantle Dockers\",\n",
        "    \"Western Bulldogs\": \"Western Bulldogs\",\n",
        "    \"Sydney\": \"Sydney Swans\",\n",
        "    \"Geelong\": \"Geelong Cats\"\n",
        "}\n",
        "\n",
        "# Update team names in the DataFrame\n",
        "agg_player_stats['Team'] = agg_player_stats['Team'].map(team_name_mapping).fillna(agg_player_stats['Team'])\n",
        "\n",
        "print(agg_player_stats.head())"
      ],
      "metadata": {
        "colab": {
          "base_uri": "https://localhost:8080/"
        },
        "id": "VkdyuGJTtr21",
        "outputId": "e4bff578-2c8f-411f-f9f2-2c04ee552a7b"
      },
      "execution_count": null,
      "outputs": [
        {
          "output_type": "stream",
          "name": "stdout",
          "text": [
            "     GameId                       Team  Disposals  Kicks  Marks  Handballs  \\\n",
            "0  2012EF01          Fremantle Dockers        325    211     94        114   \n",
            "1  2012EF01               Geelong Cats        321    182     52        139   \n",
            "2  2012EF02  North Melbourne Kangaroos        289    170     57        119   \n",
            "3  2012EF02          West Coast Eagles        358    231    112        127   \n",
            "4  2012GF01             Hawthorn Hawks        336    194     56        142   \n",
            "\n",
            "   Goals  Behinds  HitOuts  Tackles  Inside50s  Clearances  Rebounds  \n",
            "0     14        8       44       77         47          34        35  \n",
            "1     11       11       31       86         54          38        25  \n",
            "2      9       10       29       36         43          42        41  \n",
            "3     24       13       62       38         71          43        28  \n",
            "4     11       13       60       84         61          58        26  \n"
          ]
        }
      ]
    },
    {
      "cell_type": "code",
      "source": [
        "# Assuming your match data is already loaded as df_matches\n",
        "df_matches = pd.read_csv(\"/content/cleaned_games_2018_2022 (1).csv\")\n",
        "\n",
        "# First, make sure GameId exists and matches between datasets\n",
        "# You may need to create GameId from your match data (e.g., Year + Round + match number)\n",
        "\n",
        "# Merge home team stats\n",
        "df_matches = df_matches.merge(\n",
        "    agg_player_stats,\n",
        "    left_on=['gameid', 'hometeam'],\n",
        "    right_on=['GameId', 'Team'],\n",
        "    how='left',\n",
        "    suffixes=('', '_home')\n",
        ")\n",
        "\n",
        "# Merge away team stats\n",
        "df_matches = df_matches.merge(\n",
        "    agg_player_stats,\n",
        "    left_on=['GameId', 'awayteam'],\n",
        "    right_on=['GameId', 'Team'],\n",
        "    how='left',\n",
        "    suffixes=('', '_away')\n",
        ")\n",
        "\n",
        "print(df_matches.head())\n"
      ],
      "metadata": {
        "colab": {
          "base_uri": "https://localhost:8080/"
        },
        "id": "lZFhZu3L_T3w",
        "outputId": "6c16dee7-ab67-4040-96b4-8bb7f2cfe111"
      },
      "execution_count": null,
      "outputs": [
        {
          "output_type": "stream",
          "name": "stdout",
          "text": [
            "      gameid  year round        date             hometeam  \\\n",
            "0  2018R0101  2018    R1  2018-03-22      Richmond Tigers   \n",
            "1  2018R0102  2018    R1  2018-03-23     Essendon Bombers   \n",
            "2  2018R0103  2018    R1  2018-03-24      St Kilda Saints   \n",
            "3  2018R0104  2018    R1  2018-03-24  Port Adelaide Power   \n",
            "4  2018R0105  2018    R1  2018-03-24      Gold Coast Suns   \n",
            "\n",
            "                    awayteam  hometeamscoreft  awayteamscoreft  \\\n",
            "0              Carlton Blues            17.19            15.50   \n",
            "1             Adelaide Crows            14.15            12.15   \n",
            "2             Brisbane Lions            16.11            12.10   \n",
            "3          Fremantle Dockers            16.14             9.60   \n",
            "4  North Melbourne Kangaroos             7.13             5.90   \n",
            "\n",
            "              venue  attendance  ...  Kicks_away  Marks_away  Handballs_away  \\\n",
            "0            M.C.G.       90151  ...         207          88             169   \n",
            "1         Docklands       43016  ...         204          83             183   \n",
            "2         Docklands       23731  ...         215          87             160   \n",
            "3     Adelaide Oval       38324  ...         198          95             160   \n",
            "4  Cazaly's Stadium        3722  ...         217          21             130   \n",
            "\n",
            "  Goals_away Behinds_away  HitOuts_away  Tackles_away  Inside50s_away  \\\n",
            "0         15            3            42            49              47   \n",
            "1         12           14            37            50              53   \n",
            "2         12            9            44            44              49   \n",
            "3          9            5            57            44              49   \n",
            "4          5            8            46            88              47   \n",
            "\n",
            "   Clearances_away  Rebounds_away  \n",
            "0               42             47  \n",
            "1               40             43  \n",
            "2               44             37  \n",
            "3               35             43  \n",
            "4               37             54  \n",
            "\n",
            "[5 rows x 38 columns]\n"
          ]
        }
      ]
    },
    {
      "cell_type": "code",
      "source": [
        "import pandas as pd\n",
        "import numpy as np\n",
        "from sklearn.model_selection import train_test_split\n",
        "from sklearn.metrics import mean_absolute_error, mean_squared_error, r2_score\n",
        "from catboost import CatBoostRegressor\n",
        "from sklearn.preprocessing import LabelEncoder\n",
        "\n",
        "\n",
        "print(df_matches.head())\n",
        "# Ensure columns are strings\n",
        "categorical_columns = ['hometeam', 'awayteam', 'venue', 'round']\n",
        "for col in categorical_columns:\n",
        "    df_matches[col] = df_matches[col].astype(str)\n",
        "\n",
        "# ✅ Step 1: Encode categorical variables (before training!)\n",
        "label_encoders = {}\n",
        "for col in categorical_columns:\n",
        "    le = LabelEncoder()\n",
        "    le.fit(df_matches[col])\n",
        "    df_matches[col] = le.transform(df_matches[col])\n",
        "    label_encoders[col] = le\n",
        "\n",
        "# ✅ Step 2: Compute final scores\n",
        "def compute_final_score(score):\n",
        "    goals, points = map(int, str(score).split('.'))\n",
        "    return (goals * 6) + points\n",
        "\n",
        "df_matches['home_score'] = df_matches['hometeamscoreft'].apply(compute_final_score)\n",
        "df_matches['away_score'] = df_matches['awayteamscoreft'].apply(compute_final_score)\n",
        "\n",
        "# ✅ Step 3: Define features\n",
        "metadata_features = ['year', 'round', 'hometeam', 'awayteam', 'venue', 'maxtemp', 'mintemp']\n",
        "player_stats = ['Disposals', 'Kicks', 'Marks', 'Handballs', 'Goals', 'Behinds', 'HitOuts',\n",
        "                'Tackles', 'Inside50s', 'Clearances', 'Rebounds', 'Disposals_away', 'Kicks_away',\n",
        "                'Marks_away', 'Handballs_away', 'Goals_away', 'Behinds_away', 'HitOuts_away',\n",
        "                'Tackles_away', 'Inside50s_away', 'Clearances_away', 'Rebounds_away']\n",
        "\n",
        "X_metadata = df_matches[metadata_features]\n",
        "\n",
        "# ✅ Step 4: Train models for player stats\n",
        "stat_models = {}\n",
        "for stat in player_stats:\n",
        "    y_stat = df_matches[stat]\n",
        "    model = CatBoostRegressor(iterations=300, learning_rate=0.1, depth=6, random_seed=42, verbose=0)\n",
        "    model.fit(X_metadata, y_stat, cat_features=[metadata_features.index(col) for col in categorical_columns])\n",
        "    stat_models[stat] = model\n",
        "\n",
        "print(\"✅ Player stat models trained.\")\n",
        "\n",
        "# ✅ Step 5: Predict team stats for a new match\n",
        "def predict_team_stats(home_team_name, away_team_name, round_name, venue_name, year=2024, maxtemp=20, mintemp=10):\n",
        "    home_team_encoded = label_encoders['hometeam'].transform([home_team_name])[0]\n",
        "    away_team_encoded = label_encoders['awayteam'].transform([away_team_name])[0]\n",
        "    round_encoded = label_encoders['round'].transform([round_name])[0]\n",
        "    venue_encoded = label_encoders['venue'].transform([venue_name])[0]\n",
        "\n",
        "    input_metadata = pd.DataFrame({\n",
        "        'year': [year],\n",
        "        'round': [round_encoded],\n",
        "        'hometeam': [home_team_encoded],\n",
        "        'awayteam': [away_team_encoded],\n",
        "        'venue': [venue_encoded],\n",
        "        'maxtemp': [maxtemp],\n",
        "        'mintemp': [mintemp],\n",
        "    })\n",
        "\n",
        "    predicted_stats = {}\n",
        "    for stat, model in stat_models.items():\n",
        "        predicted_value = model.predict(input_metadata)[0]\n",
        "        predicted_stats[stat] = predicted_value\n",
        "\n",
        "    return predicted_stats\n",
        "\n",
        "# ✅ Step 6: Train final score models\n",
        "X_full = pd.concat([X_metadata, df_matches[player_stats]], axis=1)\n",
        "y_home = df_matches['home_score']\n",
        "y_away = df_matches['away_score']\n",
        "\n",
        "X_train, X_test, y_train_home, y_test_home = train_test_split(X_full, y_home, test_size=0.2, random_state=42)\n",
        "_, _, y_train_away, y_test_away = train_test_split(X_full, y_away, test_size=0.2, random_state=42)\n",
        "\n",
        "model_home = CatBoostRegressor(iterations=500, learning_rate=0.1, depth=6, random_seed=42, verbose=0)\n",
        "model_away = CatBoostRegressor(iterations=500, learning_rate=0.1, depth=6, random_seed=42, verbose=0)\n",
        "\n",
        "model_home.fit(X_train, y_train_home, cat_features=[metadata_features.index(col) for col in categorical_columns])\n",
        "model_away.fit(X_train, y_train_away, cat_features=[metadata_features.index(col) for col in categorical_columns])\n",
        "\n",
        "print(\"✅ Final score models trained.\")\n",
        "# Save home score model\n",
        "model_home.save_model(\"/content/model_home.cbm\")\n",
        "\n",
        "# Save away score model\n",
        "model_away.save_model(\"/content/model_away.cbm\")\n",
        "\n",
        "print(\"✅ Models saved!\")\n",
        "\n",
        "# ✅ Step 7: Final match prediction function\n",
        "def predict_match(home_team_name, away_team_name, round_name, venue_name, year=2024, maxtemp=20, mintemp=10):\n",
        "    predicted_stats = predict_team_stats(home_team_name, away_team_name, round_name, venue_name, year, maxtemp, mintemp)\n",
        "\n",
        "    home_team_encoded = label_encoders['hometeam'].transform([home_team_name])[0]\n",
        "    away_team_encoded = label_encoders['awayteam'].transform([away_team_name])[0]\n",
        "    round_encoded = label_encoders['round'].transform([round_name])[0]\n",
        "    venue_encoded = label_encoders['venue'].transform([venue_name])[0]\n",
        "\n",
        "    input_full = pd.DataFrame({\n",
        "        'year': [year],\n",
        "        'round': [round_encoded],\n",
        "        'hometeam': [home_team_encoded],\n",
        "        'awayteam': [away_team_encoded],\n",
        "        'venue': [venue_encoded],\n",
        "        'maxtemp': [maxtemp],\n",
        "        'mintemp': [mintemp],\n",
        "        **{k: [v] for k, v in predicted_stats.items()}\n",
        "    })\n",
        "\n",
        "    home_score = model_home.predict(input_full)[0]\n",
        "    away_score = model_away.predict(input_full)[0]\n",
        "\n",
        "    print(f\"Predicted Score:\\n{home_team_name}: {int(round(home_score))}\\n{away_team_name}: {int(round(away_score))}\")\n",
        "    return int(round(home_score)), int(round(away_score))\n",
        "\n",
        "\n"
      ],
      "metadata": {
        "colab": {
          "base_uri": "https://localhost:8080/",
          "height": 1000
        },
        "id": "nKvA-Gzct5uR",
        "outputId": "95526f25-d8aa-4ccc-fe28-e8fe0dbbe5c0"
      },
      "execution_count": null,
      "outputs": [
        {
          "output_type": "stream",
          "name": "stdout",
          "text": [
            "      gameid  year round        date             hometeam  \\\n",
            "0  2018R0101  2018    R1  2018-03-22      Richmond Tigers   \n",
            "1  2018R0102  2018    R1  2018-03-23     Essendon Bombers   \n",
            "2  2018R0103  2018    R1  2018-03-24      St Kilda Saints   \n",
            "3  2018R0104  2018    R1  2018-03-24  Port Adelaide Power   \n",
            "4  2018R0105  2018    R1  2018-03-24      Gold Coast Suns   \n",
            "\n",
            "                    awayteam  hometeamscoreft  awayteamscoreft  \\\n",
            "0              Carlton Blues            17.19            15.50   \n",
            "1             Adelaide Crows            14.15            12.15   \n",
            "2             Brisbane Lions            16.11            12.10   \n",
            "3          Fremantle Dockers            16.14             9.60   \n",
            "4  North Melbourne Kangaroos             7.13             5.90   \n",
            "\n",
            "              venue  attendance  ...  Kicks_away  Marks_away  Handballs_away  \\\n",
            "0            M.C.G.       90151  ...         207          88             169   \n",
            "1         Docklands       43016  ...         204          83             183   \n",
            "2         Docklands       23731  ...         215          87             160   \n",
            "3     Adelaide Oval       38324  ...         198          95             160   \n",
            "4  Cazaly's Stadium        3722  ...         217          21             130   \n",
            "\n",
            "  Goals_away Behinds_away  HitOuts_away  Tackles_away  Inside50s_away  \\\n",
            "0         15            3            42            49              47   \n",
            "1         12           14            37            50              53   \n",
            "2         12            9            44            44              49   \n",
            "3          9            5            57            44              49   \n",
            "4          5            8            46            88              47   \n",
            "\n",
            "   Clearances_away  Rebounds_away  \n",
            "0               42             47  \n",
            "1               40             43  \n",
            "2               44             37  \n",
            "3               35             43  \n",
            "4               37             54  \n",
            "\n",
            "[5 rows x 38 columns]\n"
          ]
        },
        {
          "output_type": "error",
          "ename": "KeyboardInterrupt",
          "evalue": "",
          "traceback": [
            "\u001b[0;31m---------------------------------------------------------------------------\u001b[0m",
            "\u001b[0;31mKeyboardInterrupt\u001b[0m                         Traceback (most recent call last)",
            "\u001b[0;32m<ipython-input-50-630a59e6f186>\u001b[0m in \u001b[0;36m<cell line: 0>\u001b[0;34m()\u001b[0m\n\u001b[1;32m     43\u001b[0m     \u001b[0my_stat\u001b[0m \u001b[0;34m=\u001b[0m \u001b[0mdf_matches\u001b[0m\u001b[0;34m[\u001b[0m\u001b[0mstat\u001b[0m\u001b[0;34m]\u001b[0m\u001b[0;34m\u001b[0m\u001b[0;34m\u001b[0m\u001b[0m\n\u001b[1;32m     44\u001b[0m     \u001b[0mmodel\u001b[0m \u001b[0;34m=\u001b[0m \u001b[0mCatBoostRegressor\u001b[0m\u001b[0;34m(\u001b[0m\u001b[0miterations\u001b[0m\u001b[0;34m=\u001b[0m\u001b[0;36m300\u001b[0m\u001b[0;34m,\u001b[0m \u001b[0mlearning_rate\u001b[0m\u001b[0;34m=\u001b[0m\u001b[0;36m0.1\u001b[0m\u001b[0;34m,\u001b[0m \u001b[0mdepth\u001b[0m\u001b[0;34m=\u001b[0m\u001b[0;36m6\u001b[0m\u001b[0;34m,\u001b[0m \u001b[0mrandom_seed\u001b[0m\u001b[0;34m=\u001b[0m\u001b[0;36m42\u001b[0m\u001b[0;34m,\u001b[0m \u001b[0mverbose\u001b[0m\u001b[0;34m=\u001b[0m\u001b[0;36m0\u001b[0m\u001b[0;34m)\u001b[0m\u001b[0;34m\u001b[0m\u001b[0;34m\u001b[0m\u001b[0m\n\u001b[0;32m---> 45\u001b[0;31m     \u001b[0mmodel\u001b[0m\u001b[0;34m.\u001b[0m\u001b[0mfit\u001b[0m\u001b[0;34m(\u001b[0m\u001b[0mX_metadata\u001b[0m\u001b[0;34m,\u001b[0m \u001b[0my_stat\u001b[0m\u001b[0;34m,\u001b[0m \u001b[0mcat_features\u001b[0m\u001b[0;34m=\u001b[0m\u001b[0;34m[\u001b[0m\u001b[0mmetadata_features\u001b[0m\u001b[0;34m.\u001b[0m\u001b[0mindex\u001b[0m\u001b[0;34m(\u001b[0m\u001b[0mcol\u001b[0m\u001b[0;34m)\u001b[0m \u001b[0;32mfor\u001b[0m \u001b[0mcol\u001b[0m \u001b[0;32min\u001b[0m \u001b[0mcategorical_columns\u001b[0m\u001b[0;34m]\u001b[0m\u001b[0;34m)\u001b[0m\u001b[0;34m\u001b[0m\u001b[0;34m\u001b[0m\u001b[0m\n\u001b[0m\u001b[1;32m     46\u001b[0m     \u001b[0mstat_models\u001b[0m\u001b[0;34m[\u001b[0m\u001b[0mstat\u001b[0m\u001b[0;34m]\u001b[0m \u001b[0;34m=\u001b[0m \u001b[0mmodel\u001b[0m\u001b[0;34m\u001b[0m\u001b[0;34m\u001b[0m\u001b[0m\n\u001b[1;32m     47\u001b[0m \u001b[0;34m\u001b[0m\u001b[0m\n",
            "\u001b[0;32m/usr/local/lib/python3.11/dist-packages/catboost/core.py\u001b[0m in \u001b[0;36mfit\u001b[0;34m(self, X, y, cat_features, text_features, embedding_features, graph, sample_weight, baseline, use_best_model, eval_set, verbose, logging_level, plot, plot_file, column_description, verbose_eval, metric_period, silent, early_stopping_rounds, save_snapshot, snapshot_file, snapshot_interval, init_model, callbacks, log_cout, log_cerr)\u001b[0m\n\u001b[1;32m   5871\u001b[0m         \u001b[0;32mif\u001b[0m \u001b[0;34m'loss_function'\u001b[0m \u001b[0;32min\u001b[0m \u001b[0mparams\u001b[0m\u001b[0;34m:\u001b[0m\u001b[0;34m\u001b[0m\u001b[0;34m\u001b[0m\u001b[0m\n\u001b[1;32m   5872\u001b[0m             \u001b[0mCatBoostRegressor\u001b[0m\u001b[0;34m.\u001b[0m\u001b[0m_check_is_compatible_loss\u001b[0m\u001b[0;34m(\u001b[0m\u001b[0mparams\u001b[0m\u001b[0;34m[\u001b[0m\u001b[0;34m'loss_function'\u001b[0m\u001b[0;34m]\u001b[0m\u001b[0;34m)\u001b[0m\u001b[0;34m\u001b[0m\u001b[0;34m\u001b[0m\u001b[0m\n\u001b[0;32m-> 5873\u001b[0;31m         return self._fit(X, y, cat_features, text_features, embedding_features, None, graph, sample_weight, None, None, None, None, baseline,\n\u001b[0m\u001b[1;32m   5874\u001b[0m                          \u001b[0muse_best_model\u001b[0m\u001b[0;34m,\u001b[0m \u001b[0meval_set\u001b[0m\u001b[0;34m,\u001b[0m \u001b[0mverbose\u001b[0m\u001b[0;34m,\u001b[0m \u001b[0mlogging_level\u001b[0m\u001b[0;34m,\u001b[0m \u001b[0mplot\u001b[0m\u001b[0;34m,\u001b[0m \u001b[0mplot_file\u001b[0m\u001b[0;34m,\u001b[0m \u001b[0mcolumn_description\u001b[0m\u001b[0;34m,\u001b[0m\u001b[0;34m\u001b[0m\u001b[0;34m\u001b[0m\u001b[0m\n\u001b[1;32m   5875\u001b[0m                          \u001b[0mverbose_eval\u001b[0m\u001b[0;34m,\u001b[0m \u001b[0mmetric_period\u001b[0m\u001b[0;34m,\u001b[0m \u001b[0msilent\u001b[0m\u001b[0;34m,\u001b[0m \u001b[0mearly_stopping_rounds\u001b[0m\u001b[0;34m,\u001b[0m\u001b[0;34m\u001b[0m\u001b[0;34m\u001b[0m\u001b[0m\n",
            "\u001b[0;32m/usr/local/lib/python3.11/dist-packages/catboost/core.py\u001b[0m in \u001b[0;36m_fit\u001b[0;34m(self, X, y, cat_features, text_features, embedding_features, pairs, graph, sample_weight, group_id, group_weight, subgroup_id, pairs_weight, baseline, use_best_model, eval_set, verbose, logging_level, plot, plot_file, column_description, verbose_eval, metric_period, silent, early_stopping_rounds, save_snapshot, snapshot_file, snapshot_interval, init_model, callbacks, log_cout, log_cerr)\u001b[0m\n\u001b[1;32m   2408\u001b[0m \u001b[0;34m\u001b[0m\u001b[0m\n\u001b[1;32m   2409\u001b[0m             \u001b[0;32mwith\u001b[0m \u001b[0mplot_wrapper\u001b[0m\u001b[0;34m(\u001b[0m\u001b[0mplot\u001b[0m\u001b[0;34m,\u001b[0m \u001b[0mplot_file\u001b[0m\u001b[0;34m,\u001b[0m \u001b[0;34m'Training plots'\u001b[0m\u001b[0;34m,\u001b[0m \u001b[0;34m[\u001b[0m\u001b[0m_get_train_dir\u001b[0m\u001b[0;34m(\u001b[0m\u001b[0mself\u001b[0m\u001b[0;34m.\u001b[0m\u001b[0mget_params\u001b[0m\u001b[0;34m(\u001b[0m\u001b[0;34m)\u001b[0m\u001b[0;34m)\u001b[0m\u001b[0;34m]\u001b[0m\u001b[0;34m)\u001b[0m\u001b[0;34m:\u001b[0m\u001b[0;34m\u001b[0m\u001b[0;34m\u001b[0m\u001b[0m\n\u001b[0;32m-> 2410\u001b[0;31m                 self._train(\n\u001b[0m\u001b[1;32m   2411\u001b[0m                     \u001b[0mtrain_pool\u001b[0m\u001b[0;34m,\u001b[0m\u001b[0;34m\u001b[0m\u001b[0;34m\u001b[0m\u001b[0m\n\u001b[1;32m   2412\u001b[0m                     \u001b[0mtrain_params\u001b[0m\u001b[0;34m[\u001b[0m\u001b[0;34m\"eval_sets\"\u001b[0m\u001b[0;34m]\u001b[0m\u001b[0;34m,\u001b[0m\u001b[0;34m\u001b[0m\u001b[0;34m\u001b[0m\u001b[0m\n",
            "\u001b[0;32m/usr/local/lib/python3.11/dist-packages/catboost/core.py\u001b[0m in \u001b[0;36m_train\u001b[0;34m(self, train_pool, test_pool, params, allow_clear_pool, init_model)\u001b[0m\n\u001b[1;32m   1788\u001b[0m \u001b[0;34m\u001b[0m\u001b[0m\n\u001b[1;32m   1789\u001b[0m     \u001b[0;32mdef\u001b[0m \u001b[0m_train\u001b[0m\u001b[0;34m(\u001b[0m\u001b[0mself\u001b[0m\u001b[0;34m,\u001b[0m \u001b[0mtrain_pool\u001b[0m\u001b[0;34m,\u001b[0m \u001b[0mtest_pool\u001b[0m\u001b[0;34m,\u001b[0m \u001b[0mparams\u001b[0m\u001b[0;34m,\u001b[0m \u001b[0mallow_clear_pool\u001b[0m\u001b[0;34m,\u001b[0m \u001b[0minit_model\u001b[0m\u001b[0;34m)\u001b[0m\u001b[0;34m:\u001b[0m\u001b[0;34m\u001b[0m\u001b[0;34m\u001b[0m\u001b[0m\n\u001b[0;32m-> 1790\u001b[0;31m         \u001b[0mself\u001b[0m\u001b[0;34m.\u001b[0m\u001b[0m_object\u001b[0m\u001b[0;34m.\u001b[0m\u001b[0m_train\u001b[0m\u001b[0;34m(\u001b[0m\u001b[0mtrain_pool\u001b[0m\u001b[0;34m,\u001b[0m \u001b[0mtest_pool\u001b[0m\u001b[0;34m,\u001b[0m \u001b[0mparams\u001b[0m\u001b[0;34m,\u001b[0m \u001b[0mallow_clear_pool\u001b[0m\u001b[0;34m,\u001b[0m \u001b[0minit_model\u001b[0m\u001b[0;34m.\u001b[0m\u001b[0m_object\u001b[0m \u001b[0;32mif\u001b[0m \u001b[0minit_model\u001b[0m \u001b[0;32melse\u001b[0m \u001b[0;32mNone\u001b[0m\u001b[0;34m)\u001b[0m\u001b[0;34m\u001b[0m\u001b[0;34m\u001b[0m\u001b[0m\n\u001b[0m\u001b[1;32m   1791\u001b[0m         \u001b[0mself\u001b[0m\u001b[0;34m.\u001b[0m\u001b[0m_set_trained_model_attributes\u001b[0m\u001b[0;34m(\u001b[0m\u001b[0;34m)\u001b[0m\u001b[0;34m\u001b[0m\u001b[0;34m\u001b[0m\u001b[0m\n\u001b[1;32m   1792\u001b[0m \u001b[0;34m\u001b[0m\u001b[0m\n",
            "\u001b[0;32m_catboost.pyx\u001b[0m in \u001b[0;36m_catboost._CatBoost._train\u001b[0;34m()\u001b[0m\n",
            "\u001b[0;32m_catboost.pyx\u001b[0m in \u001b[0;36m_catboost._CatBoost._train\u001b[0;34m()\u001b[0m\n",
            "\u001b[0;31mKeyboardInterrupt\u001b[0m: "
          ]
        }
      ]
    },
    {
      "cell_type": "code",
      "source": [
        "import pandas as pd\n",
        "import numpy as np\n",
        "from sklearn.model_selection import train_test_split\n",
        "from sklearn.metrics import mean_absolute_error, mean_squared_error, r2_score\n",
        "from catboost import CatBoostRegressor\n",
        "from sklearn.preprocessing import LabelEncoder\n",
        "\n",
        "print(df_matches.head())\n",
        "\n",
        "\n"
      ],
      "metadata": {
        "colab": {
          "base_uri": "https://localhost:8080/"
        },
        "id": "TLh7-OO69ODW",
        "outputId": "98761ce8-9e02-4e80-bad2-0b3784c0f04d"
      },
      "execution_count": null,
      "outputs": [
        {
          "output_type": "stream",
          "name": "stdout",
          "text": [
            "      gameid  year round        date             hometeam  \\\n",
            "0  2018R0101  2018    R1  2018-03-22      Richmond Tigers   \n",
            "1  2018R0102  2018    R1  2018-03-23     Essendon Bombers   \n",
            "2  2018R0103  2018    R1  2018-03-24      St Kilda Saints   \n",
            "3  2018R0104  2018    R1  2018-03-24  Port Adelaide Power   \n",
            "4  2018R0105  2018    R1  2018-03-24      Gold Coast Suns   \n",
            "\n",
            "                    awayteam  hometeamscoreft  awayteamscoreft  \\\n",
            "0              Carlton Blues            17.19            15.50   \n",
            "1             Adelaide Crows            14.15            12.15   \n",
            "2             Brisbane Lions            16.11            12.10   \n",
            "3          Fremantle Dockers            16.14             9.60   \n",
            "4  North Melbourne Kangaroos             7.13             5.90   \n",
            "\n",
            "              venue  attendance  ...  Kicks_away  Marks_away  Handballs_away  \\\n",
            "0            M.C.G.       90151  ...         207          88             169   \n",
            "1         Docklands       43016  ...         204          83             183   \n",
            "2         Docklands       23731  ...         215          87             160   \n",
            "3     Adelaide Oval       38324  ...         198          95             160   \n",
            "4  Cazaly's Stadium        3722  ...         217          21             130   \n",
            "\n",
            "  Goals_away Behinds_away  HitOuts_away  Tackles_away  Inside50s_away  \\\n",
            "0         15            3            42            49              47   \n",
            "1         12           14            37            50              53   \n",
            "2         12            9            44            44              49   \n",
            "3          9            5            57            44              49   \n",
            "4          5            8            46            88              47   \n",
            "\n",
            "   Clearances_away  Rebounds_away  \n",
            "0               42             47  \n",
            "1               40             43  \n",
            "2               44             37  \n",
            "3               35             43  \n",
            "4               37             54  \n",
            "\n",
            "[5 rows x 38 columns]\n"
          ]
        }
      ]
    },
    {
      "cell_type": "code",
      "source": [
        "\n",
        "# Ensure columns are strings\n",
        "categorical_columns = ['hometeam', 'awayteam', 'venue', 'round']\n",
        "for col in categorical_columns:\n",
        "    df_matches[col] = df_matches[col].astype(str)\n",
        "\n",
        "# ✅ Step 1: Encode categorical variables (before training!)\n",
        "label_encoders = {}\n",
        "for col in categorical_columns:\n",
        "    le = LabelEncoder()\n",
        "    le.fit(df_matches[col])\n",
        "    df_matches[col] = le.transform(df_matches[col])\n",
        "    label_encoders[col] = le\n",
        "\n",
        "# ✅ Step 2: Compute final scores\n",
        "def compute_final_score(score):\n",
        "    goals, points = map(int, str(score).split('.'))\n",
        "    return (goals * 6) + points\n",
        "\n",
        "df_matches['home_score'] = df_matches['hometeamscoreft'].apply(compute_final_score)\n",
        "df_matches['away_score'] = df_matches['awayteamscoreft'].apply(compute_final_score)\n",
        "\n",
        "# ✅ Step 3: Define features\n",
        "metadata_features = ['year', 'round', 'hometeam', 'awayteam', 'venue', 'maxtemp', 'mintemp']\n",
        "player_stats = ['Disposals', 'Kicks', 'Marks', 'Handballs', 'Goals', 'Behinds', 'HitOuts',\n",
        "                'Tackles', 'Inside50s', 'Clearances', 'Rebounds', 'Disposals_away', 'Kicks_away',\n",
        "                'Marks_away', 'Handballs_away', 'Goals_away', 'Behinds_away', 'HitOuts_away',\n",
        "                'Tackles_away', 'Inside50s_away', 'Clearances_away', 'Rebounds_away']\n",
        "\n",
        "X_metadata = df_matches[metadata_features]\n",
        "\n",
        "# ✅ Step 4: Train models for player stats\n",
        "stat_models = {}\n",
        "for stat in player_stats:\n",
        "    y_stat = df_matches[stat]\n",
        "    model = CatBoostRegressor(iterations=300, learning_rate=0.1, depth=6, random_seed=42, verbose=0)\n",
        "    model.fit(X_metadata, y_stat, cat_features=[metadata_features.index(col) for col in categorical_columns])\n",
        "    stat_models[stat] = model\n",
        "\n",
        "print(\"✅ Player stat models trained.\")\n",
        "\n",
        "# ✅ Step 5: Predict team stats for a new match\n",
        "def predict_team_stats(home_team_name, away_team_name, round_name, venue_name, year=2024, maxtemp=20, mintemp=10):\n",
        "    home_team_encoded = label_encoders['hometeam'].transform([home_team_name])[0]\n",
        "    away_team_encoded = label_encoders['awayteam'].transform([away_team_name])[0]\n",
        "    round_encoded = label_encoders['round'].transform([round_name])[0]\n",
        "    venue_encoded = label_encoders['venue'].transform([venue_name])[0]\n",
        "\n",
        "    input_metadata = pd.DataFrame({\n",
        "        'year': [year],\n",
        "        'round': [round_encoded],\n",
        "        'hometeam': [home_team_encoded],\n",
        "        'awayteam': [away_team_encoded],\n",
        "        'venue': [venue_encoded],\n",
        "        'maxtemp': [maxtemp],\n",
        "        'mintemp': [mintemp],\n",
        "    })\n",
        "\n",
        "    predicted_stats = {}\n",
        "    for stat, model in stat_models.items():\n",
        "        predicted_value = model.predict(input_metadata)[0]\n",
        "        predicted_stats[stat] = predicted_value\n",
        "\n",
        "    return predicted_stats\n",
        "\n",
        "# ✅ Step 6: Train final score models\n",
        "X_full = pd.concat([X_metadata, df_matches[player_stats]], axis=1)\n",
        "y_home = df_matches['home_score']\n",
        "y_away = df_matches['away_score']\n",
        "\n",
        "X_train, X_test, y_train_home, y_test_home = train_test_split(X_full, y_home, test_size=0.2, random_state=42)\n",
        "_, _, y_train_away, y_test_away = train_test_split(X_full, y_away, test_size=0.2, random_state=42)\n",
        "\n",
        "model_home =CatBoostRegressor(\n",
        "    iterations=500,\n",
        "    learning_rate=0.1,\n",
        "    depth=6,\n",
        "    loss_function='RMSEWithUncertainty',  # Required for uncertainty estimates\n",
        "    random_seed=42,\n",
        "    verbose=0\n",
        ")\n",
        "model_away = CatBoostRegressor(\n",
        "    iterations=500,\n",
        "    learning_rate=0.1,\n",
        "    depth=6,\n",
        "    loss_function='RMSEWithUncertainty',  # Required for uncertainty estimates\n",
        "    random_seed=42,\n",
        "    verbose=0\n",
        ")\n",
        "\n",
        "model_home.fit(X_train, y_train_home, cat_features=[metadata_features.index(col) for col in categorical_columns])\n",
        "model_away.fit(X_train, y_train_away, cat_features=[metadata_features.index(col) for col in categorical_columns])\n",
        "\n",
        "print(\"✅ Final score models trained.\")\n",
        "# Save home score model\n",
        "model_home.save_model(\"/content/model_home.cbm\")\n",
        "\n",
        "# Save away score model\n",
        "model_away.save_model(\"/content/model_away.cbm\")\n",
        "\n",
        "print(\"✅ Models saved!\")\n",
        "\n",
        "# ✅ Step 7: Final match prediction function\n",
        "def predict_match(home_team_name, away_team_name, round_name, venue_name, year=2024, maxtemp=20, mintemp=10):\n",
        "    predicted_stats = predict_team_stats(home_team_name, away_team_name, round_name, venue_name, year, maxtemp, mintemp)\n",
        "\n",
        "    # Encode inputs\n",
        "    home_team_encoded = label_encoders['hometeam'].transform([home_team_name])[0]\n",
        "    away_team_encoded = label_encoders['awayteam'].transform([away_team_name])[0]\n",
        "    round_encoded = label_encoders['round'].transform([round_name])[0]\n",
        "    venue_encoded = label_encoders['venue'].transform([venue_name])[0]\n",
        "\n",
        "    input_full = pd.DataFrame({\n",
        "        'year': [year],\n",
        "        'round': [round_encoded],\n",
        "        'hometeam': [home_team_encoded],\n",
        "        'awayteam': [away_team_encoded],\n",
        "        'venue': [venue_encoded],\n",
        "        'maxtemp': [maxtemp],\n",
        "        'mintemp': [mintemp],\n",
        "        **{k: [v] for k, v in predicted_stats.items()}\n",
        "    })\n",
        "\n",
        "    # Predict with uncertainty\n",
        "    home_pred = model_home.predict(input_full, prediction_type='RMSEWithUncertainty')\n",
        "    away_pred = model_away.predict(input_full, prediction_type='RMSEWithUncertainty')\n",
        "\n",
        "    home_score_mean, home_score_std = home_pred[0]\n",
        "    away_score_mean, away_score_std = away_pred[0]\n",
        "\n",
        "    # Calculate relative confidence\n",
        "    MAX_STD = 3.0  # adjust based on your highest observed std dev\n",
        "    home_confidence_pct = max(0, min(100, 100 - (home_score_std / MAX_STD) * 100))\n",
        "    away_confidence_pct = max(0, min(100, 100 - (away_score_std / MAX_STD) * 100))\n",
        "\n",
        "    # Match-level average confidence\n",
        "    match_confidence_pct = max(home_confidence_pct,away_confidence_pct)\n",
        "\n",
        "    # # Badge function\n",
        "    # def confidence_badge(pct):\n",
        "    #     if pct >= 65:\n",
        "    #         return f\"{pct:.0f}% 🟢 High\"\n",
        "    #     elif pct >= 40:\n",
        "    #         return f\"{pct:.0f}% 🟡 Medium\"\n",
        "    #     else:\n",
        "    #         return f\"{pct:.0f}% 🔴 Low\"\n",
        "\n",
        "    # # Print results\n",
        "    # print(\"🔢 Predicted Score:\")\n",
        "    # print(f\"{home_team_name}: {int(round(home_score_mean))} ± {home_score_std:.2f} → {confidence_badge(home_confidence_pct)}\")\n",
        "    # print(f\"{away_team_name}: {int(round(away_score_mean))} ± {away_score_std:.2f} → {confidence_badge(away_confidence_pct)}\")\n",
        "    # print(f\"\\n🧠 Match Confidence: {confidence_badge(match_confidence_pct)}\")\n",
        "\n",
        "    return {\n",
        "        \"home_score\": round(home_score_mean),\n",
        "        \"away_score\": round(away_score_mean),\n",
        "        \"match_confidence\": match_confidence_pct\n",
        "    }\n"
      ],
      "metadata": {
        "colab": {
          "base_uri": "https://localhost:8080/"
        },
        "id": "b_2a0HNj-b70",
        "outputId": "d41f653c-52f5-45a6-ea1e-f7341d9e7b6e"
      },
      "execution_count": null,
      "outputs": [
        {
          "output_type": "stream",
          "name": "stdout",
          "text": [
            "✅ Player stat models trained.\n",
            "✅ Final score models trained.\n",
            "✅ Models saved!\n"
          ]
        }
      ]
    },
    {
      "cell_type": "code",
      "source": [
        "# ✅ Test\n",
        "predict_match('Richmond Tigers', 'Carlton Blues', 'R1', 'M.C.G.',2022)"
      ],
      "metadata": {
        "colab": {
          "base_uri": "https://localhost:8080/"
        },
        "id": "4g3V0QKaAJ9q",
        "outputId": "5e883a70-0eb9-4e5d-cfd7-8c3726f93790"
      },
      "execution_count": null,
      "outputs": [
        {
          "output_type": "execute_result",
          "data": {
            "text/plain": [
              "{'home_score': 87, 'away_score': 81, 'match_confidence': 66.26880925048664}"
            ]
          },
          "metadata": {},
          "execution_count": 138
        }
      ]
    },
    {
      "cell_type": "code",
      "source": [
        "predict_match('Richmond Tigers', 'Carlton Blues', 'R1', 'M.C.G.',2021)"
      ],
      "metadata": {
        "colab": {
          "base_uri": "https://localhost:8080/"
        },
        "id": "laQJs0N6CjYc",
        "outputId": "983f77c7-6a15-48a7-82ac-055c54cdd368"
      },
      "execution_count": null,
      "outputs": [
        {
          "output_type": "execute_result",
          "data": {
            "text/plain": [
              "{'home_score': 83, 'away_score': 80, 'match_confidence': 70.26044187779178}"
            ]
          },
          "metadata": {},
          "execution_count": 139
        }
      ]
    },
    {
      "cell_type": "code",
      "source": [
        "predict_match('Richmond Tigers', 'Carlton Blues', 'R1', 'M.C.G.',2018)"
      ],
      "metadata": {
        "colab": {
          "base_uri": "https://localhost:8080/"
        },
        "id": "cdwYzZzmCm52",
        "outputId": "380b5568-4325-4f2d-92fa-b7edb0164c96"
      },
      "execution_count": null,
      "outputs": [
        {
          "output_type": "execute_result",
          "data": {
            "text/plain": [
              "{'home_score': 91, 'away_score': 74, 'match_confidence': 88.68983647438453}"
            ]
          },
          "metadata": {},
          "execution_count": 140
        }
      ]
    },
    {
      "cell_type": "code",
      "source": [
        "predict_match('Gold Coast Suns', 'Fremantle Dockers', 'R8', 'Perth Stadium')"
      ],
      "metadata": {
        "colab": {
          "base_uri": "https://localhost:8080/"
        },
        "id": "GL7CIPPaCrHY",
        "outputId": "edb3f6c1-990f-4340-adb5-c906a0d36c1d"
      },
      "execution_count": null,
      "outputs": [
        {
          "output_type": "execute_result",
          "data": {
            "text/plain": [
              "{'home_score': 68, 'away_score': 74, 'match_confidence': 71.75671882411986}"
            ]
          },
          "metadata": {},
          "execution_count": 116
        }
      ]
    },
    {
      "cell_type": "code",
      "source": [
        "predict_match('Gold Coast Suns', 'Sydney Swans', 'R8', 'Perth Stadium')"
      ],
      "metadata": {
        "colab": {
          "base_uri": "https://localhost:8080/"
        },
        "id": "c-kv4Dt2DF1f",
        "outputId": "cbaebacc-e13b-4129-e7a0-44fc5385c9d5"
      },
      "execution_count": null,
      "outputs": [
        {
          "output_type": "execute_result",
          "data": {
            "text/plain": [
              "{'home_score': 68, 'away_score': 86, 'match_confidence': 68.17367780942956}"
            ]
          },
          "metadata": {},
          "execution_count": 117
        }
      ]
    },
    {
      "cell_type": "code",
      "source": [
        "predict_match('Gold Coast Suns', 'Geelong Cats', 'R8', 'Perth Stadium')"
      ],
      "metadata": {
        "colab": {
          "base_uri": "https://localhost:8080/"
        },
        "id": "yxLtaMA_DTVh",
        "outputId": "8248c10b-3af0-49ee-a2cc-71af60fff6d7"
      },
      "execution_count": null,
      "outputs": [
        {
          "output_type": "execute_result",
          "data": {
            "text/plain": [
              "{'home_score': 67, 'away_score': 81, 'match_confidence': 78.75111974863937}"
            ]
          },
          "metadata": {},
          "execution_count": 118
        }
      ]
    },
    {
      "cell_type": "code",
      "source": [
        "predict_match('Richmond Tigers', 'Carlton Blues', 'R1', 'M.C.G.')"
      ],
      "metadata": {
        "colab": {
          "base_uri": "https://localhost:8080/"
        },
        "id": "W_MkoqHnRHga",
        "outputId": "1938fb1c-6f58-467f-9c71-08e0670ac169"
      },
      "execution_count": null,
      "outputs": [
        {
          "output_type": "execute_result",
          "data": {
            "text/plain": [
              "{'home_score': 87, 'away_score': 81, 'match_confidence': 66.26880925048664}"
            ]
          },
          "metadata": {},
          "execution_count": 119
        }
      ]
    },
    {
      "cell_type": "code",
      "source": [
        "predict_match('Richmond Tigers', 'Carlton Blues', 'R1', 'Adelaide Oval')"
      ],
      "metadata": {
        "colab": {
          "base_uri": "https://localhost:8080/"
        },
        "id": "PXO1-ri9V-38",
        "outputId": "77d74c95-78a1-42f0-cdc3-af327539fbce"
      },
      "execution_count": null,
      "outputs": [
        {
          "output_type": "execute_result",
          "data": {
            "text/plain": [
              "{'home_score': 86, 'away_score': 68, 'match_confidence': 56.18834496069047}"
            ]
          },
          "metadata": {},
          "execution_count": 121
        }
      ]
    },
    {
      "cell_type": "code",
      "source": [
        "predict_match('Port Adelaide Power', 'Fremantle Dockers', 'R23', 'M.C.G.')"
      ],
      "metadata": {
        "colab": {
          "base_uri": "https://localhost:8080/"
        },
        "id": "lpUz8tyFWHON",
        "outputId": "56bf80f3-4d74-4016-ae22-7ef898a557be"
      },
      "execution_count": null,
      "outputs": [
        {
          "output_type": "execute_result",
          "data": {
            "text/plain": [
              "{'home_score': 86, 'away_score': 63, 'match_confidence': 54.35258954631658}"
            ]
          },
          "metadata": {},
          "execution_count": 122
        }
      ]
    },
    {
      "cell_type": "code",
      "source": [
        "predict_match('Port Adelaide Power', 'Fremantle Dockers', 'R23', 'Perth Stadium')"
      ],
      "metadata": {
        "colab": {
          "base_uri": "https://localhost:8080/"
        },
        "id": "DBx6Kvq7aq_h",
        "outputId": "d5bd4a05-fe8f-4122-cd57-0859d84ed493"
      },
      "execution_count": null,
      "outputs": [
        {
          "output_type": "execute_result",
          "data": {
            "text/plain": [
              "{'home_score': 85, 'away_score': 56, 'match_confidence': 32.7499248361391}"
            ]
          },
          "metadata": {},
          "execution_count": 128
        }
      ]
    },
    {
      "cell_type": "code",
      "source": [
        "predict_match('Melbourne Demons', 'Geelong Cats', 'R1', 'M.C.G.')"
      ],
      "metadata": {
        "colab": {
          "base_uri": "https://localhost:8080/"
        },
        "id": "tQkSPtwFWRUs",
        "outputId": "b7b85e8d-f7de-4f6a-ad73-dbf31926a2fa"
      },
      "execution_count": null,
      "outputs": [
        {
          "output_type": "execute_result",
          "data": {
            "text/plain": [
              "{'home_score': 83, 'away_score': 83, 'match_confidence': 69.56574689562068}"
            ]
          },
          "metadata": {},
          "execution_count": 124
        }
      ]
    },
    {
      "cell_type": "code",
      "source": [
        "predict_match('Melbourne Demons', 'Geelong Cats', 'R1', 'Perth Stadium')"
      ],
      "metadata": {
        "colab": {
          "base_uri": "https://localhost:8080/"
        },
        "id": "X4CbkF0jai5N",
        "outputId": "799a4e90-2738-40bb-fc92-3a015c83ddca"
      },
      "execution_count": null,
      "outputs": [
        {
          "output_type": "execute_result",
          "data": {
            "text/plain": [
              "{'home_score': 76, 'away_score': 70, 'match_confidence': 71.37910817877076}"
            ]
          },
          "metadata": {},
          "execution_count": 127
        }
      ]
    },
    {
      "cell_type": "code",
      "source": [
        "predict_match('Collingwood Magpies', 'GWS Giants', 'R1', 'M.C.G.')"
      ],
      "metadata": {
        "colab": {
          "base_uri": "https://localhost:8080/"
        },
        "id": "Wr_rY2z0aJRj",
        "outputId": "e68ff032-114a-45eb-bf9b-1b4a5fdb5e50"
      },
      "execution_count": null,
      "outputs": [
        {
          "output_type": "execute_result",
          "data": {
            "text/plain": [
              "{'home_score': 76, 'away_score': 80, 'match_confidence': 59.25456090499605}"
            ]
          },
          "metadata": {},
          "execution_count": 125
        }
      ]
    },
    {
      "cell_type": "code",
      "source": [
        "predict_match('Collingwood Magpies', 'GWS Giants', 'R1', 'Perth Stadium')"
      ],
      "metadata": {
        "colab": {
          "base_uri": "https://localhost:8080/"
        },
        "id": "wIr4DNg-aYRU",
        "outputId": "66c14aef-12e2-4f2a-8c5d-acf9ea9e6349"
      },
      "execution_count": null,
      "outputs": [
        {
          "output_type": "execute_result",
          "data": {
            "text/plain": [
              "{'home_score': 74, 'away_score': 75, 'match_confidence': 73.96345683448537}"
            ]
          },
          "metadata": {},
          "execution_count": 126
        }
      ]
    },
    {
      "cell_type": "code",
      "source": [
        "import pandas as pd\n",
        "\n",
        "df_batch = pd.DataFrame([\n",
        "    (\"Brisbane Lions\", \"Melbourne Demons\", \"R23\", \"Gabba\", 28.1, 8.4),\n",
        "    (\"GWS Giants\", \"Fremantle Dockers\", \"R23\", \"Manuka Oval\", 13.0, 4.4),\n",
        "    (\"North Melbourne Kangaroos\", \"Gold Coast Suns\", \"R23\", \"Docklands\", 13.2, 9.7),\n",
        "    (\"Geelong Cats\", \"West Coast Eagles\", \"R23\", \"Kardinia Park\", 13.7, 8.9),\n",
        "    (\"Essendon Bombers\", \"Richmond Tigers\", \"R23\", \"M.C.G.\", 13.2, 9.7),\n",
        "    (\"Port Adelaide Power\", \"Adelaide Crows\", \"R23\", \"Adelaide Oval\", 15.1, 12.4),\n",
        "    (\"Hawthorn Hawks\", \"Western Bulldogs\", \"R23\", \"York Park\", 12.1, 1.5),\n",
        "    (\"Carlton Blues\", \"Collingwood Magpies\", \"R23\", \"M.C.G.\", 14.2, 6.3)\n",
        "], columns=[\"hometeam\", \"awayteam\", \"round\", \"venue\", \"maxtemp\", \"mintemp\"])\n",
        "df_batch[\"year\"] = 2022  # Add the year\n",
        "\n",
        "# Now loop and call your prediction function\n",
        "for _, row in df_batch.iterrows():\n",
        "    print(\"=\" * 50)\n",
        "    print(predict_match(\n",
        "        home_team_name=row['hometeam'],\n",
        "        away_team_name=row['awayteam'],\n",
        "        round_name=row['round'],\n",
        "        venue_name=row['venue'],\n",
        "        year=row['year'],\n",
        "        maxtemp=row['maxtemp'],\n",
        "        mintemp=row['mintemp']\n",
        "    ))\n"
      ],
      "metadata": {
        "colab": {
          "base_uri": "https://localhost:8080/"
        },
        "id": "G4Z3GiVJcwGp",
        "outputId": "57540e9f-676f-4d2f-e884-3d771999d90f"
      },
      "execution_count": null,
      "outputs": [
        {
          "output_type": "stream",
          "name": "stdout",
          "text": [
            "==================================================\n",
            "{'home_score': 86, 'away_score': 88, 'match_confidence': 78.34531327721537}\n",
            "==================================================\n",
            "{'home_score': 81, 'away_score': 67, 'match_confidence': 61.55625145328327}\n",
            "==================================================\n",
            "{'home_score': 80, 'away_score': 92, 'match_confidence': 66.13787539378765}\n",
            "==================================================\n",
            "{'home_score': 111, 'away_score': 62, 'match_confidence': 94.76872809110465}\n",
            "==================================================\n",
            "{'home_score': 66, 'away_score': 95, 'match_confidence': 80.37984064170706}\n",
            "==================================================\n",
            "{'home_score': 101, 'away_score': 74, 'match_confidence': 88.03214912475704}\n",
            "==================================================\n",
            "{'home_score': 72, 'away_score': 87, 'match_confidence': 73.74553625692673}\n",
            "==================================================\n",
            "{'home_score': 74, 'away_score': 87, 'match_confidence': 82.17311031599931}\n"
          ]
        }
      ]
    },
    {
      "cell_type": "code",
      "source": [
        "import pickle\n",
        "\n",
        "# Save player stat models\n",
        "with open(\"/content/player_stat_models.pkl\", \"wb\") as f:\n",
        "    pickle.dump(stat_models, f)\n",
        "\n",
        "# Save label encoders\n",
        "with open(\"/content/label_encoders.pkl\", \"wb\") as f:\n",
        "    pickle.dump(label_encoders, f)\n",
        "\n",
        "print(\"✅ Player stat models and encoders saved!\")\n"
      ],
      "metadata": {
        "id": "M4mqaBfOFkt8",
        "outputId": "37ed010f-5d5c-4f7f-c181-d9ebe631f9a0",
        "colab": {
          "base_uri": "https://localhost:8080/"
        }
      },
      "execution_count": null,
      "outputs": [
        {
          "output_type": "stream",
          "name": "stdout",
          "text": [
            "✅ Player stat models and encoders saved!\n"
          ]
        }
      ]
    },
    {
      "cell_type": "code",
      "source": [
        "predict_match(\"Port Adelaide Power\", \"Fremantle Dockers\", \"R1\", \"Adelaide Oval\", year=2018, maxtemp=28.7, mintemp=14)"
      ],
      "metadata": {
        "colab": {
          "base_uri": "https://localhost:8080/"
        },
        "id": "BtfSRxgDuGHO",
        "outputId": "2d1dc7f5-7575-4b8b-9dbc-25d4df16dbcf"
      },
      "execution_count": null,
      "outputs": [
        {
          "output_type": "stream",
          "name": "stdout",
          "text": [
            "Predicted Score:\n",
            "Port Adelaide Power: 100\n",
            "Fremantle Dockers: 73\n"
          ]
        },
        {
          "output_type": "execute_result",
          "data": {
            "text/plain": [
              "(100, 73)"
            ]
          },
          "metadata": {},
          "execution_count": 12
        }
      ]
    },
    {
      "cell_type": "code",
      "source": [
        "from sklearn.metrics import mean_absolute_error, mean_squared_error, r2_score\n",
        "import numpy as np\n",
        "\n",
        "# Step 1: Prepare test data for evaluation\n",
        "# Important: test data must include both metadata and player stats\n",
        "X_test_full = pd.concat([X_test[metadata_features], df_matches.loc[X_test.index, player_stats]], axis=1)\n",
        "\n",
        "# Step 2: Predict on test set\n",
        "y_pred_home = model_home.predict(X_test_full)\n",
        "y_pred_away = model_away.predict(X_test_full)\n",
        "\n",
        "# Step 3: Round predictions (optional for realism)\n",
        "y_pred_home_int = np.round(y_pred_home)\n",
        "y_pred_away_int = np.round(y_pred_away)\n",
        "\n",
        "# Step 4: Calculate evaluation metrics\n",
        "\n",
        "# Home score metrics\n",
        "mae_home = mean_absolute_error(y_test_home, y_pred_home_int)\n",
        "rmse_home = np.sqrt(mean_squared_error(y_test_home, y_pred_home_int))\n",
        "r2_home = r2_score(y_test_home, y_pred_home)\n",
        "\n",
        "# Away score metrics\n",
        "mae_away = mean_absolute_error(y_test_away, y_pred_away_int)\n",
        "rmse_away = np.sqrt(mean_squared_error(y_test_away, y_pred_away_int))\n",
        "r2_away = r2_score(y_test_away, y_pred_away)\n",
        "\n",
        "# Step 5: Print results\n",
        "print(f\"🏠 Home Score - MAE: {mae_home:.2f}, RMSE: {rmse_home:.2f}, R²: {r2_home:.4f}\")\n",
        "print(f\"🧳 Away Score - MAE: {mae_away:.2f}, RMSE: {rmse_away:.2f}, R²: {r2_away:.4f}\")\n"
      ],
      "metadata": {
        "colab": {
          "base_uri": "https://localhost:8080/"
        },
        "id": "DWts1UtauMXj",
        "outputId": "6c3fd7b8-3fe1-4e7e-b37d-490b1351559d"
      },
      "execution_count": null,
      "outputs": [
        {
          "output_type": "stream",
          "name": "stdout",
          "text": [
            "🏠 Home Score - MAE: 2.76, RMSE: 3.62, R²: 0.9803\n",
            "🧳 Away Score - MAE: 2.74, RMSE: 3.80, R²: 0.9786\n"
          ]
        }
      ]
    }
  ]
}
